{
  "cells": [
    {
      "cell_type": "markdown",
      "metadata": {
        "id": "f1Z5R8a9ItS6"
      },
      "source": [
        "# 加载数据"
      ]
    },
    {
      "cell_type": "code",
      "execution_count": 1,
      "metadata": {
        "id": "UexauhJkYUSD"
      },
      "outputs": [],
      "source": [
        "import os\n",
        "import torch\n",
        "from torch.utils.data import DataLoader\n",
        "from torch import nn, optim\n",
        "from torchvision.transforms import transforms\n",
        "from torchsummary import summary"
      ]
    },
    {
      "cell_type": "code",
      "execution_count": null,
      "metadata": {
        "colab": {
          "base_uri": "https://localhost:8080/"
        },
        "id": "5FO539a4f0fg",
        "outputId": "7ab9028c-3327-4760-a5ca-9e232100e35e"
      },
      "outputs": [
        {
          "name": "stdout",
          "output_type": "stream",
          "text": [
            "Mon Oct 18 06:22:47 2021       \n",
            "+-----------------------------------------------------------------------------+\n",
            "| NVIDIA-SMI 470.74       Driver Version: 460.32.03    CUDA Version: 11.2     |\n",
            "|-------------------------------+----------------------+----------------------+\n",
            "| GPU  Name        Persistence-M| Bus-Id        Disp.A | Volatile Uncorr. ECC |\n",
            "| Fan  Temp  Perf  Pwr:Usage/Cap|         Memory-Usage | GPU-Util  Compute M. |\n",
            "|                               |                      |               MIG M. |\n",
            "|===============================+======================+======================|\n",
            "|   0  Tesla P100-PCIE...  Off  | 00000000:00:04.0 Off |                    0 |\n",
            "| N/A   34C    P0    28W / 250W |      0MiB / 16280MiB |      0%      Default |\n",
            "|                               |                      |                  N/A |\n",
            "+-------------------------------+----------------------+----------------------+\n",
            "                                                                               \n",
            "+-----------------------------------------------------------------------------+\n",
            "| Processes:                                                                  |\n",
            "|  GPU   GI   CI        PID   Type   Process name                  GPU Memory |\n",
            "|        ID   ID                                                   Usage      |\n",
            "|=============================================================================|\n",
            "|  No running processes found                                                 |\n",
            "+-----------------------------------------------------------------------------+\n"
          ]
        }
      ],
      "source": [
        "gpu_info = !nvidia-smi\n",
        "gpu_info = '\\n'.join(gpu_info)\n",
        "if gpu_info.find('failed') >= 0:\n",
        "  print('Select the Runtime > \"Change runtime type\" menu to enable a GPU accelerator, ')\n",
        "  print('and then re-execute this cell.')\n",
        "else:\n",
        "  print(gpu_info)"
      ]
    },
    {
      "cell_type": "code",
      "execution_count": null,
      "metadata": {
        "colab": {
          "base_uri": "https://localhost:8080/"
        },
        "id": "F9wEu1XBYoad",
        "outputId": "f9e32b20-9dee-4911-b9c6-acff5fef249f"
      },
      "outputs": [
        {
          "name": "stdout",
          "output_type": "stream",
          "text": [
            "Mounted at /content/drive\n"
          ]
        }
      ],
      "source": [
        "from google.colab import drive\n",
        "drive.mount('/content/drive')"
      ]
    },
    {
      "cell_type": "code",
      "execution_count": null,
      "metadata": {
        "colab": {
          "base_uri": "https://localhost:8080/"
        },
        "id": "JUchCajxY4B5",
        "outputId": "6298658d-6519-4ea3-c046-03089f14a6e8"
      },
      "outputs": [],
      "source": [
        "# !unzip /content/drive/MyDrive/Data.zip\n"
      ]
    },
    {
      "cell_type": "code",
      "execution_count": null,
      "metadata": {
        "colab": {
          "base_uri": "https://localhost:8080/"
        },
        "id": "atzprd0Gypo5",
        "outputId": "45d5cd42-6518-422b-bb39-b66e0e40e3b4"
      },
      "outputs": [
        {
          "name": "stdout",
          "output_type": "stream",
          "text": [
            "1534\n",
            "384\n"
          ]
        }
      ],
      "source": [
        "!ls /content/drive/MyDrive/Data/Data/data/train -l | grep \"^-\" | wc -l\n",
        "!ls /content/drive/MyDrive/Data/Data/data/test -l | grep \"^-\" | wc -l"
      ]
    },
    {
      "cell_type": "code",
      "execution_count": null,
      "metadata": {
        "colab": {
          "base_uri": "https://localhost:8080/"
        },
        "id": "m7dPJyWlYUSG",
        "outputId": "fcbad53a-1105-4880-d572-3acb825b6df8"
      },
      "outputs": [],
      "source": [
        "%cd /content\n",
        "if os.path.exists(\"Ultrasound\"):\n",
        "    %rm -rf Ultrasound\n",
        "!ls\n",
        "if not os.path.exists(\"Ultrasound\"):\n",
        "    !git clone https://github.com/z872845991/Ultrasound.git\n",
        "%cd Ultrasound\n",
        "!ls"
      ]
    },
    {
      "cell_type": "code",
      "execution_count": 2,
      "metadata": {
        "colab": {
          "base_uri": "https://localhost:8080/"
        },
        "id": "TeVP0bjqYUSH",
        "outputId": "d1daca53-d441-47fd-c3a3-8acc5595a2f7"
      },
      "outputs": [
        {
          "name": "stdout",
          "output_type": "stream",
          "text": [
            "cpu\n"
          ]
        }
      ],
      "source": [
        "device=torch.device(\"cuda:0\" if torch.cuda.is_available() else \"cpu\")\n",
        "print(device)"
      ]
    },
    {
      "cell_type": "markdown",
      "metadata": {
        "id": "P7rK0vWwTLRA"
      },
      "source": [
        "# 参数"
      ]
    },
    {
      "cell_type": "markdown",
      "metadata": {},
      "source": [
        "## 导入工具包"
      ]
    },
    {
      "cell_type": "code",
      "execution_count": 3,
      "metadata": {
        "id": "DCNKYZQrYUSJ"
      },
      "outputs": [],
      "source": [
        "from dataset.Fetus import FetusDataset\n",
        "from tools.metrics import dice_coef,iou_score,get_accuracy,get_precision,get_specificity,get_recall,get_F1\n",
        "from tools.utils import AverageMeter\n",
        "from train.train_unet_local import train_model_local\n",
        "import matplotlib.pyplot as plt\n",
        "import datetime"
      ]
    },
    {
      "cell_type": "markdown",
      "metadata": {},
      "source": [
        "## 导入模型"
      ]
    },
    {
      "cell_type": "code",
      "execution_count": 4,
      "metadata": {},
      "outputs": [],
      "source": [
        "from model.unet_res_myself_pool_connect_o_C import Unet_res_myself_pool\n",
        "from model.unet import Unet\n",
        "from model.idea3 import Idea3\n",
        "from model.idea3 import Idea3_seblock\n",
        "from model.unet_self_attention import Unet_self_attention\n",
        "from model.unet_encoder_idea3_se import Unet_encoder_idea3_se\n",
        "from model.unet_decoder_se import Unet_decoder_se"
      ]
    },
    {
      "cell_type": "code",
      "execution_count": 5,
      "metadata": {
        "id": "i9EQMUgsYUSI"
      },
      "outputs": [
        {
          "ename": "FileNotFoundError",
          "evalue": "[WinError 3] 系统找不到指定的路径。: '/content/drive/MyDrive/Data/Data/data/train'",
          "output_type": "error",
          "traceback": [
            "\u001b[1;31m---------------------------------------------------------------------------\u001b[0m",
            "\u001b[1;31mFileNotFoundError\u001b[0m                         Traceback (most recent call last)",
            "\u001b[1;32m~\\AppData\\Local\\Temp/ipykernel_15012/2980093031.py\u001b[0m in \u001b[0;36m<module>\u001b[1;34m\u001b[0m\n\u001b[0;32m     19\u001b[0m    ])\n\u001b[0;32m     20\u001b[0m \u001b[1;31m#加载数据集\u001b[0m\u001b[1;33m\u001b[0m\u001b[1;33m\u001b[0m\u001b[1;33m\u001b[0m\u001b[0m\n\u001b[1;32m---> 21\u001b[1;33m \u001b[0mtrain_dataset\u001b[0m\u001b[1;33m=\u001b[0m\u001b[0mFetusDataset\u001b[0m\u001b[1;33m(\u001b[0m\u001b[0mtrain_path\u001b[0m\u001b[1;33m,\u001b[0m\u001b[0mtransform\u001b[0m\u001b[1;33m=\u001b[0m\u001b[0mx_transforms\u001b[0m\u001b[1;33m,\u001b[0m\u001b[0mtarget_transform\u001b[0m\u001b[1;33m=\u001b[0m\u001b[0my_transforms\u001b[0m\u001b[1;33m)\u001b[0m\u001b[1;33m\u001b[0m\u001b[1;33m\u001b[0m\u001b[0m\n\u001b[0m\u001b[0;32m     22\u001b[0m \u001b[0mval_dataset\u001b[0m\u001b[1;33m=\u001b[0m\u001b[0mFetusDataset\u001b[0m\u001b[1;33m(\u001b[0m\u001b[0mval_path\u001b[0m\u001b[1;33m,\u001b[0m\u001b[0mtransform\u001b[0m\u001b[1;33m=\u001b[0m\u001b[0mx_transforms\u001b[0m\u001b[1;33m,\u001b[0m\u001b[0mtarget_transform\u001b[0m\u001b[1;33m=\u001b[0m\u001b[0my_transforms\u001b[0m\u001b[1;33m)\u001b[0m\u001b[1;33m\u001b[0m\u001b[1;33m\u001b[0m\u001b[0m\n\u001b[0;32m     23\u001b[0m \u001b[1;31m#设置dataloader\u001b[0m\u001b[1;33m\u001b[0m\u001b[1;33m\u001b[0m\u001b[1;33m\u001b[0m\u001b[0m\n",
            "\u001b[1;32md:\\OneDrive\\Github\\Ultrasound\\dataset\\Fetus.py\u001b[0m in \u001b[0;36m__init__\u001b[1;34m(self, path, mode, transform, target_transform)\u001b[0m\n\u001b[0;32m     21\u001b[0m         \u001b[0mself\u001b[0m\u001b[1;33m.\u001b[0m\u001b[0mpath\u001b[0m \u001b[1;33m=\u001b[0m \u001b[0mpath\u001b[0m\u001b[1;33m\u001b[0m\u001b[1;33m\u001b[0m\u001b[0m\n\u001b[0;32m     22\u001b[0m         \u001b[0mself\u001b[0m\u001b[1;33m.\u001b[0m\u001b[0mmode\u001b[0m \u001b[1;33m=\u001b[0m \u001b[0mmode\u001b[0m\u001b[1;33m\u001b[0m\u001b[1;33m\u001b[0m\u001b[0m\n\u001b[1;32m---> 23\u001b[1;33m         \u001b[0mself\u001b[0m\u001b[1;33m.\u001b[0m\u001b[0mimgs\u001b[0m \u001b[1;33m=\u001b[0m \u001b[0mmake_dataset\u001b[0m\u001b[1;33m(\u001b[0m\u001b[0mpath\u001b[0m\u001b[1;33m)\u001b[0m\u001b[1;33m\u001b[0m\u001b[1;33m\u001b[0m\u001b[0m\n\u001b[0m\u001b[0;32m     24\u001b[0m         \u001b[0mself\u001b[0m\u001b[1;33m.\u001b[0m\u001b[0mtransform\u001b[0m \u001b[1;33m=\u001b[0m \u001b[0mtransform\u001b[0m\u001b[1;33m\u001b[0m\u001b[1;33m\u001b[0m\u001b[0m\n\u001b[0;32m     25\u001b[0m         \u001b[0mself\u001b[0m\u001b[1;33m.\u001b[0m\u001b[0mtarget_transform\u001b[0m \u001b[1;33m=\u001b[0m \u001b[0mtarget_transform\u001b[0m\u001b[1;33m\u001b[0m\u001b[1;33m\u001b[0m\u001b[0m\n",
            "\u001b[1;32md:\\OneDrive\\Github\\Ultrasound\\dataset\\Fetus.py\u001b[0m in \u001b[0;36mmake_dataset\u001b[1;34m(path)\u001b[0m\n\u001b[0;32m      7\u001b[0m \u001b[1;33m\u001b[0m\u001b[0m\n\u001b[0;32m      8\u001b[0m \u001b[1;32mdef\u001b[0m \u001b[0mmake_dataset\u001b[0m\u001b[1;33m(\u001b[0m\u001b[0mpath\u001b[0m\u001b[1;33m)\u001b[0m\u001b[1;33m:\u001b[0m\u001b[1;33m\u001b[0m\u001b[1;33m\u001b[0m\u001b[0m\n\u001b[1;32m----> 9\u001b[1;33m     \u001b[0mfiles\u001b[0m \u001b[1;33m=\u001b[0m \u001b[0mos\u001b[0m\u001b[1;33m.\u001b[0m\u001b[0mlistdir\u001b[0m\u001b[1;33m(\u001b[0m\u001b[0mpath\u001b[0m\u001b[1;33m)\u001b[0m\u001b[1;33m\u001b[0m\u001b[1;33m\u001b[0m\u001b[0m\n\u001b[0m\u001b[0;32m     10\u001b[0m     \u001b[0mimgs\u001b[0m \u001b[1;33m=\u001b[0m \u001b[1;33m[\u001b[0m\u001b[1;33m]\u001b[0m\u001b[1;33m\u001b[0m\u001b[1;33m\u001b[0m\u001b[0m\n\u001b[0;32m     11\u001b[0m     \u001b[1;32mfor\u001b[0m \u001b[0mfile\u001b[0m \u001b[1;32min\u001b[0m \u001b[0mfiles\u001b[0m\u001b[1;33m:\u001b[0m\u001b[1;33m\u001b[0m\u001b[1;33m\u001b[0m\u001b[0m\n",
            "\u001b[1;31mFileNotFoundError\u001b[0m: [WinError 3] 系统找不到指定的路径。: '/content/drive/MyDrive/Data/Data/data/train'"
          ]
        }
      ],
      "source": [
        "num_epoch=81\n",
        "batch_size={'train':2,\n",
        "            'val':1\n",
        "            }\n",
        "train_path='/content/drive/MyDrive/Data/Data/data/train'\n",
        "val_path='/content/drive/MyDrive/Data/Data/data/test'\n",
        "#变换\n",
        "x_transforms = transforms.Compose([\n",
        "    transforms.Resize((512,512)),\n",
        "    # transforms.CenterCrop(512),\n",
        "    transforms.ToTensor()\n",
        "    # transforms.Normalize([0.5, 0.5, 0.5], [0.5, 0.5, 0.5])\n",
        "])\n",
        "# mask只需要转换为tensor\n",
        "y_transforms = transforms.Compose([\n",
        "    transforms.Resize((512, 512)),\n",
        "    # transforms.CenterCrop(512),\n",
        "    transforms.ToTensor()\n",
        "   ])\n",
        "#加载数据集\n",
        "train_dataset=FetusDataset(train_path,transform=x_transforms,target_transform=y_transforms)\n",
        "val_dataset=FetusDataset(val_path,transform=x_transforms,target_transform=y_transforms)\n",
        "#设置dataloader\n",
        "dataloaders={\n",
        "    'train':DataLoader(train_dataset,batch_size=batch_size['train'],shuffle=True,num_workers=0),\n",
        "    'val':DataLoader(val_dataset,batch_size=batch_size['val'],shuffle=True,num_workers=0)\n",
        "             }\n",
        "\n"
      ]
    },
    {
      "cell_type": "markdown",
      "metadata": {
        "id": "I-Fv7mlxGIRV"
      },
      "source": [
        "# 训练"
      ]
    },
    {
      "cell_type": "markdown",
      "metadata": {
        "id": "mrn2xS7JH-Bx"
      },
      "source": [
        "## 1. Idea3"
      ]
    },
    {
      "cell_type": "code",
      "execution_count": null,
      "metadata": {
        "colab": {
          "base_uri": "https://localhost:8080/"
        },
        "id": "-0-pMw_yYUSL",
        "outputId": "7676d319-a050-43fc-cdb5-e396064ad470"
      },
      "outputs": [],
      "source": [
        "model1=Idea3(n_class=1)\n",
        "model1.to(device)\n",
        "\n",
        "criterion = nn.BCEWithLogitsLoss()\n",
        "optimizer = optim.Adam(model1.parameters())\n",
        "\n",
        "train1=train_model_local(model1)\n",
        "train1.summarys(input_size=(3,224,224))"
      ]
    },
    {
      "cell_type": "code",
      "execution_count": null,
      "metadata": {
        "id": "q7PYcgxPIk99"
      },
      "outputs": [],
      "source": [
        "train1.compile(dataloaders,criterion,optimizer,num_epoch,batch_size,train_path,val_path,device)"
      ]
    },
    {
      "cell_type": "code",
      "execution_count": null,
      "metadata": {
        "id": "50tP7L4KI4dy"
      },
      "outputs": [],
      "source": [
        "file11='/content/drive/MyDrive/result/train/train_7m_Idea3_change.txt'\n",
        "file12='/content/drive/MyDrive/result/test/test_7m_Idea3_change.txt'\n",
        "path1='/content/drive/MyDrive/result/checkpoins/train_7m_Idea3'\n",
        "train1.fit(file11,file12,path1)"
      ]
    },
    {
      "cell_type": "code",
      "execution_count": null,
      "metadata": {},
      "outputs": [],
      "source": [
        "path1='/content/drive/MyDrive/result/checkpoints/train_7m_Idea3_se_change_1'\n",
        "with torch.no_grad():\n",
        "    data=next(iter(dataloaders['val']))\n",
        "    pic1,label=data[0].to(device),data[1].to(device)\n",
        "    path1=path1+'_%d.pth'%(num_epoch-1)\n",
        "    model1.load_state_dict(torch.load(path1))\n",
        "    y=model1(pic1).cpu()\n",
        "    plt.figure(1)\n",
        "    plt.subplot(121)\n",
        "    img1_y=torch.squeeze(y).numpy()\n",
        "    plt.imshow(img1_y,cmap='gray')\n",
        "    plt.subplot(122)\n",
        "    img_label=label.squeeze().cpu().numpy()\n",
        "    plt.imshow(img_label) "
      ]
    },
    {
      "cell_type": "markdown",
      "metadata": {
        "id": "7Z63M3uHGLP7"
      },
      "source": [
        "## 2. Unet_res_myself_pool\n"
      ]
    },
    {
      "cell_type": "code",
      "execution_count": null,
      "metadata": {
        "colab": {
          "base_uri": "https://localhost:8080/"
        },
        "id": "UV3FTecfGQJM",
        "outputId": "5da77860-66c6-48c3-a63b-9ae7cf165ece"
      },
      "outputs": [],
      "source": [
        "model2=Unet_res_myself_pool(n_class=1)\n",
        "#model=Unet(n_class=1)\n",
        "model2.to(device)\n",
        "\n",
        "criterion = nn.BCEWithLogitsLoss()\n",
        "optimizer = optim.Adam(model2.parameters())\n",
        "\n",
        "train2=train_model_local(model2)\n",
        "train2.summarys(input_size=(3,224,224))"
      ]
    },
    {
      "cell_type": "code",
      "execution_count": null,
      "metadata": {
        "id": "DHaXIjhsGmCC"
      },
      "outputs": [],
      "source": [
        "train2.compile(dataloaders,criterion,optimizer,num_epoch,batch_size,train_path,val_path,device)"
      ]
    },
    {
      "cell_type": "code",
      "execution_count": null,
      "metadata": {
        "colab": {
          "base_uri": "https://localhost:8080/"
        },
        "id": "eHKYyQxJGo9J",
        "outputId": "842d30fb-bb51-4019-f0c0-e40ce9db7338"
      },
      "outputs": [],
      "source": [
        "file21='/content/drive/MyDrive/result/train/train_7m_Unet_res_myself_pool_change.txt'\n",
        "file22='/content/drive/MyDrive/result/test/test_7m_Unet_res_myself_pool_change.txt'\n",
        "path2='/content/drive/MyDrive/result/checkpoints/train_7m_Unet_res_myself_pool_change'\n",
        "train2.fit(file21,file22,path2)"
      ]
    },
    {
      "cell_type": "code",
      "execution_count": null,
      "metadata": {},
      "outputs": [],
      "source": [
        "path2='/content/drive/MyDrive/result/checkpoints/train_7m_Idea3_se_change_2'\n",
        "path2=path2+'_%d.pth'%(num_epoch-1)\n",
        "with torch.no_grad():\n",
        "    data=next(iter(dataloaders['val']))\n",
        "    pic2,label=data[0].to(device),data[2].to(device)\n",
        "\n",
        "    model2.load_state_dict(torch.load(path2))\n",
        "    \n",
        "    y=model2(pic2).cpu()\n",
        "    plt.figure(1)\n",
        "    plt.subplot(121)\n",
        "    img2_y=torch.squeeze(y).numpy()\n",
        "    plt.imshow(img2_y,cmap='gray')\n",
        "    plt.subplot(122)\n",
        "    img_label=label.squeeze().cpu().numpy()\n",
        "    plt.imshow(img_label) "
      ]
    },
    {
      "cell_type": "markdown",
      "metadata": {
        "id": "X_enN2KdGSLb"
      },
      "source": [
        "## 3. Unet\n"
      ]
    },
    {
      "cell_type": "code",
      "execution_count": null,
      "metadata": {
        "colab": {
          "base_uri": "https://localhost:8080/"
        },
        "id": "i94h3wR4HBvR",
        "outputId": "1688f69a-369d-4f82-f0f4-64910140715c"
      },
      "outputs": [],
      "source": [
        "model3=Unet(n_class=1)\n",
        "model3.to(device)\n",
        "\n",
        "criterion = nn.BCEWithLogitsLoss()\n",
        "optimizer = optim.Adam(model3.parameters())\n",
        "\n",
        "train3=train_model_local(model3)\n",
        "train3.summarys(input_size=(3,224,224))"
      ]
    },
    {
      "cell_type": "code",
      "execution_count": null,
      "metadata": {
        "id": "_5hAryo8HCLb"
      },
      "outputs": [],
      "source": [
        "train3.compile(dataloaders,criterion,optimizer,num_epoch,batch_size,train_path,val_path,device)"
      ]
    },
    {
      "cell_type": "code",
      "execution_count": null,
      "metadata": {
        "id": "Z1qdCUbeHCbN"
      },
      "outputs": [],
      "source": [
        "file31='/content/drive/MyDrive/result/train/train_7m_Unet_change.txt'\n",
        "file32='/content/drive/MyDrive/result/test/test_7m_Unet_change.txt'\n",
        "path3='/content/drive/MyDrive/result/checkpoints/train_7m_Unet_change'\n",
        "train3.fit(file31,file32,path3)"
      ]
    },
    {
      "cell_type": "code",
      "execution_count": null,
      "metadata": {},
      "outputs": [],
      "source": [
        "path3='/content/drive/MyDrive/result/checkpoints/train_7m_Idea3_se_change_1'\n",
        "path3=path3+'_%d.pth'%(num_epoch-1)\n",
        "with torch.no_grad():\n",
        "    data=next(iter(dataloaders['val']))\n",
        "    pic3,label=data[0].to(device),data[1].to(device)\n",
        "    model3.load_state_dict(torch.load(path3))\n",
        "    y=model3(pic3).cpu()\n",
        "    plt.figure(3)\n",
        "    plt.subplot(121)\n",
        "    img3_y=torch.squeeze(y).numpy()\n",
        "    plt.imshow(img3_y,cmap='gray')\n",
        "    plt.subplot(122)\n",
        "    img_label=label.squeeze().cpu().numpy()\n",
        "    plt.imshow(img_label) "
      ]
    },
    {
      "cell_type": "markdown",
      "metadata": {},
      "source": [
        "## 4. Unet_self_attention"
      ]
    },
    {
      "cell_type": "code",
      "execution_count": null,
      "metadata": {},
      "outputs": [],
      "source": [
        "model4=Unet_self_attention(n_class=1)\n",
        "model4.to(device)\n",
        "\n",
        "criterion = nn.BCEWithLogitsLoss()\n",
        "optimizer = optim.Adam(model4.parameters())\n",
        "\n",
        "train4=train_model_local(model4)\n",
        "train4.summarys(input_size=(3,224,224))"
      ]
    },
    {
      "cell_type": "code",
      "execution_count": null,
      "metadata": {},
      "outputs": [],
      "source": [
        "train4.compile(dataloaders,criterion,optimizer,num_epoch,batch_size,train_path,val_path,device)"
      ]
    },
    {
      "cell_type": "code",
      "execution_count": null,
      "metadata": {},
      "outputs": [],
      "source": [
        "start=datetime.datetime.now()\n",
        "file41='/content/drive/MyDrive/result/train/train_7m_Unet_self_attention_.txt'\n",
        "file42='/content/drive/MyDrive/result/test/test_7m_Unet_self_attention.txt'\n",
        "path4='/content/drive/MyDrive/result/checkpoints/train_7m_Unet_self_attention'\n",
        "train4.fit(file41,file42,path4)\n",
        "end=datetime.datetime.now()\n",
        "t=end-start\n",
        "print(\"%d min, %d seconds\",%(t/60,t%60))"
      ]
    },
    {
      "cell_type": "code",
      "execution_count": null,
      "metadata": {},
      "outputs": [],
      "source": [
        "path4='/content/drive/MyDrive/result/checkpoints/train_7m_Unet_self_attention'\n",
        "path4=path4+'_%d.pth'%(num_epoch-1)\n",
        "with torch.no_grad():\n",
        "    data=next(iter(dataloaders['val']))\n",
        "\n",
        "    pic4,label=data[0].to(device),data[1].to(device)\n",
        "    model4.load_state_dict(torch.load(path3))\n",
        "    y=model4(pic4).cpu()\n",
        "    \n",
        "    plt.figure(3)\n",
        "    plt.subplot(121)\n",
        "    img4_y=torch.squeeze(y).numpy()\n",
        "    plt.imshow(img4_y,cmap='gray')\n",
        "    plt.subplot(122)\n",
        "    img_label=label.squeeze().cpu().numpy()\n",
        "    plt.imshow(img_label) "
      ]
    },
    {
      "cell_type": "markdown",
      "metadata": {},
      "source": [
        "## 5. Unet_encoder_idea3_se"
      ]
    },
    {
      "cell_type": "code",
      "execution_count": 6,
      "metadata": {},
      "outputs": [
        {
          "name": "stdout",
          "output_type": "stream",
          "text": [
            "----------------------------------------------------------------\n",
            "        Layer (type)               Output Shape         Param #\n",
            "================================================================\n",
            "            Conv2d-1         [-1, 64, 224, 224]           1,792\n",
            "       BatchNorm2d-2         [-1, 64, 224, 224]             128\n",
            "              ReLU-3         [-1, 64, 224, 224]               0\n",
            "            Conv2d-4         [-1, 64, 224, 224]          36,928\n",
            "       BatchNorm2d-5         [-1, 64, 224, 224]             128\n",
            "              ReLU-6         [-1, 64, 224, 224]               0\n",
            "         MaxPool2d-7         [-1, 64, 112, 112]               0\n",
            "            Conv2d-8         [-1, 64, 112, 112]           4,160\n",
            "       BatchNorm2d-9         [-1, 64, 112, 112]             128\n",
            "             ReLU-10         [-1, 64, 112, 112]               0\n",
            "           Conv2d-11         [-1, 64, 112, 112]          36,928\n",
            "      BatchNorm2d-12         [-1, 64, 112, 112]             128\n",
            "             ReLU-13         [-1, 64, 112, 112]               0\n",
            "           Conv2d-14         [-1, 64, 112, 112]          36,928\n",
            "      BatchNorm2d-15         [-1, 64, 112, 112]             128\n",
            "             ReLU-16         [-1, 64, 112, 112]               0\n",
            "           Conv2d-17         [-1, 64, 112, 112]          36,928\n",
            "      BatchNorm2d-18         [-1, 64, 112, 112]             128\n",
            "             ReLU-19         [-1, 64, 112, 112]               0\n",
            "           Conv2d-20         [-1, 64, 112, 112]          36,928\n",
            "      BatchNorm2d-21         [-1, 64, 112, 112]             128\n",
            "             ReLU-22         [-1, 64, 112, 112]               0\n",
            "           Conv2d-23         [-1, 64, 112, 112]          36,928\n",
            "      BatchNorm2d-24         [-1, 64, 112, 112]             128\n",
            "             ReLU-25         [-1, 64, 112, 112]               0\n",
            "           Conv2d-26         [-1, 64, 112, 112]          36,928\n",
            "      BatchNorm2d-27         [-1, 64, 112, 112]             128\n",
            "             ReLU-28         [-1, 64, 112, 112]               0\n",
            "AdaptiveAvgPool2d-29             [-1, 64, 1, 1]               0\n",
            "           Linear-30                    [-1, 4]             256\n",
            "             ReLU-31                    [-1, 4]               0\n",
            "           Linear-32                   [-1, 64]             256\n",
            "          Sigmoid-33                   [-1, 64]               0\n",
            "          SELayer-34             [-1, 64, 1, 1]               0\n",
            "           Conv2d-35        [-1, 128, 112, 112]         221,312\n",
            "      BatchNorm2d-36        [-1, 128, 112, 112]             256\n",
            "             ReLU-37        [-1, 128, 112, 112]               0\n",
            "Incpetion_SE_block-38        [-1, 128, 112, 112]               0\n",
            "        MaxPool2d-39          [-1, 128, 56, 56]               0\n",
            "           Conv2d-40          [-1, 128, 56, 56]          16,512\n",
            "      BatchNorm2d-41          [-1, 128, 56, 56]             256\n",
            "             ReLU-42          [-1, 128, 56, 56]               0\n",
            "           Conv2d-43          [-1, 128, 56, 56]         147,584\n",
            "      BatchNorm2d-44          [-1, 128, 56, 56]             256\n",
            "             ReLU-45          [-1, 128, 56, 56]               0\n",
            "           Conv2d-46          [-1, 128, 56, 56]         147,584\n",
            "      BatchNorm2d-47          [-1, 128, 56, 56]             256\n",
            "             ReLU-48          [-1, 128, 56, 56]               0\n",
            "           Conv2d-49          [-1, 128, 56, 56]         147,584\n",
            "      BatchNorm2d-50          [-1, 128, 56, 56]             256\n",
            "             ReLU-51          [-1, 128, 56, 56]               0\n",
            "           Conv2d-52          [-1, 128, 56, 56]         147,584\n",
            "      BatchNorm2d-53          [-1, 128, 56, 56]             256\n",
            "             ReLU-54          [-1, 128, 56, 56]               0\n",
            "           Conv2d-55          [-1, 128, 56, 56]         147,584\n",
            "      BatchNorm2d-56          [-1, 128, 56, 56]             256\n",
            "             ReLU-57          [-1, 128, 56, 56]               0\n",
            "           Conv2d-58          [-1, 128, 56, 56]         147,584\n",
            "      BatchNorm2d-59          [-1, 128, 56, 56]             256\n",
            "             ReLU-60          [-1, 128, 56, 56]               0\n",
            "AdaptiveAvgPool2d-61            [-1, 128, 1, 1]               0\n",
            "           Linear-62                    [-1, 8]           1,024\n",
            "             ReLU-63                    [-1, 8]               0\n",
            "           Linear-64                  [-1, 128]           1,024\n",
            "          Sigmoid-65                  [-1, 128]               0\n",
            "          SELayer-66            [-1, 128, 1, 1]               0\n",
            "           Conv2d-67          [-1, 256, 56, 56]         884,992\n",
            "      BatchNorm2d-68          [-1, 256, 56, 56]             512\n",
            "             ReLU-69          [-1, 256, 56, 56]               0\n",
            "Incpetion_SE_block-70          [-1, 256, 56, 56]               0\n",
            "        MaxPool2d-71          [-1, 256, 28, 28]               0\n",
            "           Conv2d-72          [-1, 256, 28, 28]          65,792\n",
            "      BatchNorm2d-73          [-1, 256, 28, 28]             512\n",
            "             ReLU-74          [-1, 256, 28, 28]               0\n",
            "           Conv2d-75          [-1, 256, 28, 28]         590,080\n",
            "      BatchNorm2d-76          [-1, 256, 28, 28]             512\n",
            "             ReLU-77          [-1, 256, 28, 28]               0\n",
            "           Conv2d-78          [-1, 256, 28, 28]         590,080\n",
            "      BatchNorm2d-79          [-1, 256, 28, 28]             512\n",
            "             ReLU-80          [-1, 256, 28, 28]               0\n",
            "           Conv2d-81          [-1, 256, 28, 28]         590,080\n",
            "      BatchNorm2d-82          [-1, 256, 28, 28]             512\n",
            "             ReLU-83          [-1, 256, 28, 28]               0\n",
            "           Conv2d-84          [-1, 256, 28, 28]         590,080\n",
            "      BatchNorm2d-85          [-1, 256, 28, 28]             512\n",
            "             ReLU-86          [-1, 256, 28, 28]               0\n",
            "           Conv2d-87          [-1, 256, 28, 28]         590,080\n",
            "      BatchNorm2d-88          [-1, 256, 28, 28]             512\n",
            "             ReLU-89          [-1, 256, 28, 28]               0\n",
            "           Conv2d-90          [-1, 256, 28, 28]         590,080\n",
            "      BatchNorm2d-91          [-1, 256, 28, 28]             512\n",
            "             ReLU-92          [-1, 256, 28, 28]               0\n",
            "AdaptiveAvgPool2d-93            [-1, 256, 1, 1]               0\n",
            "           Linear-94                   [-1, 16]           4,096\n",
            "             ReLU-95                   [-1, 16]               0\n",
            "           Linear-96                  [-1, 256]           4,096\n",
            "          Sigmoid-97                  [-1, 256]               0\n",
            "          SELayer-98            [-1, 256, 1, 1]               0\n",
            "           Conv2d-99          [-1, 512, 28, 28]       3,539,456\n",
            "     BatchNorm2d-100          [-1, 512, 28, 28]           1,024\n",
            "            ReLU-101          [-1, 512, 28, 28]               0\n",
            "Incpetion_SE_block-102          [-1, 512, 28, 28]               0\n",
            "       MaxPool2d-103          [-1, 512, 14, 14]               0\n",
            "          Conv2d-104          [-1, 512, 14, 14]         262,656\n",
            "     BatchNorm2d-105          [-1, 512, 14, 14]           1,024\n",
            "            ReLU-106          [-1, 512, 14, 14]               0\n",
            "          Conv2d-107          [-1, 512, 14, 14]       2,359,808\n",
            "     BatchNorm2d-108          [-1, 512, 14, 14]           1,024\n",
            "            ReLU-109          [-1, 512, 14, 14]               0\n",
            "          Conv2d-110          [-1, 512, 14, 14]       2,359,808\n",
            "     BatchNorm2d-111          [-1, 512, 14, 14]           1,024\n",
            "            ReLU-112          [-1, 512, 14, 14]               0\n",
            "          Conv2d-113          [-1, 512, 14, 14]       2,359,808\n",
            "     BatchNorm2d-114          [-1, 512, 14, 14]           1,024\n",
            "            ReLU-115          [-1, 512, 14, 14]               0\n",
            "          Conv2d-116          [-1, 512, 14, 14]       2,359,808\n",
            "     BatchNorm2d-117          [-1, 512, 14, 14]           1,024\n",
            "            ReLU-118          [-1, 512, 14, 14]               0\n",
            "          Conv2d-119          [-1, 512, 14, 14]       2,359,808\n",
            "     BatchNorm2d-120          [-1, 512, 14, 14]           1,024\n",
            "            ReLU-121          [-1, 512, 14, 14]               0\n",
            "          Conv2d-122          [-1, 512, 14, 14]       2,359,808\n",
            "     BatchNorm2d-123          [-1, 512, 14, 14]           1,024\n",
            "            ReLU-124          [-1, 512, 14, 14]               0\n",
            "AdaptiveAvgPool2d-125            [-1, 512, 1, 1]               0\n",
            "          Linear-126                   [-1, 32]          16,384\n",
            "            ReLU-127                   [-1, 32]               0\n",
            "          Linear-128                  [-1, 512]          16,384\n",
            "         Sigmoid-129                  [-1, 512]               0\n",
            "         SELayer-130            [-1, 512, 1, 1]               0\n",
            "          Conv2d-131         [-1, 1024, 14, 14]      14,156,800\n",
            "     BatchNorm2d-132         [-1, 1024, 14, 14]           2,048\n",
            "            ReLU-133         [-1, 1024, 14, 14]               0\n",
            "Incpetion_SE_block-134         [-1, 1024, 14, 14]               0\n",
            " ConvTranspose2d-135          [-1, 512, 28, 28]       2,097,664\n",
            "          Conv2d-136          [-1, 512, 28, 28]       4,719,104\n",
            "     BatchNorm2d-137          [-1, 512, 28, 28]           1,024\n",
            "            ReLU-138          [-1, 512, 28, 28]               0\n",
            "          Conv2d-139          [-1, 512, 28, 28]       2,359,808\n",
            "     BatchNorm2d-140          [-1, 512, 28, 28]           1,024\n",
            "            ReLU-141          [-1, 512, 28, 28]               0\n",
            " ConvTranspose2d-142          [-1, 256, 56, 56]         524,544\n",
            "          Conv2d-143          [-1, 256, 56, 56]       1,179,904\n",
            "     BatchNorm2d-144          [-1, 256, 56, 56]             512\n",
            "            ReLU-145          [-1, 256, 56, 56]               0\n",
            "          Conv2d-146          [-1, 256, 56, 56]         590,080\n",
            "     BatchNorm2d-147          [-1, 256, 56, 56]             512\n",
            "            ReLU-148          [-1, 256, 56, 56]               0\n",
            " ConvTranspose2d-149        [-1, 128, 112, 112]         131,200\n",
            "          Conv2d-150        [-1, 128, 112, 112]         295,040\n",
            "     BatchNorm2d-151        [-1, 128, 112, 112]             256\n",
            "            ReLU-152        [-1, 128, 112, 112]               0\n",
            "          Conv2d-153        [-1, 128, 112, 112]         147,584\n",
            "     BatchNorm2d-154        [-1, 128, 112, 112]             256\n",
            "            ReLU-155        [-1, 128, 112, 112]               0\n",
            " ConvTranspose2d-156         [-1, 64, 224, 224]          32,832\n",
            "          Conv2d-157         [-1, 64, 224, 224]          73,792\n",
            "     BatchNorm2d-158         [-1, 64, 224, 224]             128\n",
            "            ReLU-159         [-1, 64, 224, 224]               0\n",
            "          Conv2d-160         [-1, 64, 224, 224]          36,928\n",
            "     BatchNorm2d-161         [-1, 64, 224, 224]             128\n",
            "            ReLU-162         [-1, 64, 224, 224]               0\n",
            "          Conv2d-163          [-1, 1, 224, 224]              65\n",
            "================================================================\n",
            "Total params: 50,250,241\n",
            "Trainable params: 50,250,241\n",
            "Non-trainable params: 0\n",
            "----------------------------------------------------------------\n",
            "Input size (MB): 0.57\n",
            "Forward/backward pass size (MB): 813.51\n",
            "Params size (MB): 191.69\n",
            "Estimated Total Size (MB): 1005.77\n",
            "----------------------------------------------------------------\n"
          ]
        }
      ],
      "source": [
        "model5=Unet_encoder_idea3_se(n_class=1)\n",
        "model5.to(device)\n",
        "\n",
        "criterion = nn.BCEWithLogitsLoss()\n",
        "optimizer = optim.Adam(model5.parameters())\n",
        "\n",
        "train5=train_model_local(model5)\n",
        "train5.summarys(input_size=(3,224,224))"
      ]
    },
    {
      "cell_type": "markdown",
      "metadata": {},
      "source": [
        "## 6.unet_decoder_idea3_se"
      ]
    },
    {
      "cell_type": "code",
      "execution_count": null,
      "metadata": {},
      "outputs": [],
      "source": [
        "model6=Unet_decoder_idea3_se(n_class=1)\n",
        "model6.to(device)\n",
        "\n",
        "criterion = nn.BCEWithLogitsLoss()\n",
        "optimizer = optim.Adam(model6.parameters())\n",
        "\n",
        "train6=train_model_local(model6)\n",
        "train6.summarys(input_size=(3,224,224))"
      ]
    },
    {
      "cell_type": "code",
      "execution_count": null,
      "metadata": {},
      "outputs": [],
      "source": [
        "train6.compile(dataloaders,criterion,optimizer,num_epoch,batch_size,train_path,val_path,device)"
      ]
    },
    {
      "cell_type": "code",
      "execution_count": null,
      "metadata": {},
      "outputs": [],
      "source": [
        "start=datetime.datetime.now()\n",
        "file61='/content/drive/MyDrive/result/train/train_7m_Unet_decoder_idea3_se_change.txt'\n",
        "file62='/content/drive/MyDrive/result/test/test_7m_Unet_decoder_idea3_se_change.txt'\n",
        "path6='/content/drive/MyDrive/result/checkpoints/train_7m_Unet_decoder_idea3_se_change'\n",
        "train6.fit(file61,file62,path6)\n",
        "end=datetime.datetime.now()\n",
        "t=(end-start).total_seconds()\n",
        "print(\"%d min, %d seconds\"%((t/60),(t%60)))"
      ]
    },
    {
      "cell_type": "code",
      "execution_count": null,
      "metadata": {},
      "outputs": [],
      "source": [
        "path6='/content/drive/MyDrive/result/checkpoints/train_7m_Unet_decoder_idea3_se_change'\n",
        "path6=path6+'_%d.pth'%(num_epoch-1)\n",
        "with torch.no_grad():\n",
        "    data=next(iter(dataloaders['val']))\n",
        "    pic3,label=data[0].to(device),data[1].to(device)\n",
        "\n",
        "    model6.load_state_dict(torch.load(path6))   #修改model,path\n",
        "    y=model6(pic3).cpu()   #修改model\n",
        "\n",
        "    plt.figure(3)\n",
        "    plt.subplot(121)\n",
        "    img3_y=torch.squeeze(y).numpy()\n",
        "    plt.imshow(img3_y,cmap='gray')\n",
        "    plt.subplot(122)\n",
        "    img_label=label.squeeze().cpu().numpy()\n",
        "    plt.imshow(img_label) "
      ]
    },
    {
      "cell_type": "markdown",
      "metadata": {},
      "source": [
        "## 7.unet_decoder_se"
      ]
    },
    {
      "cell_type": "code",
      "execution_count": null,
      "metadata": {},
      "outputs": [],
      "source": [
        "model7=Unet_decoder_se(n_class=1)\n",
        "model7.to(device)\n",
        "\n",
        "criterion = nn.BCEWithLogitsLoss()\n",
        "optimizer = optim.Adam(model7.parameters(),lr=1e-4)\n",
        "\n",
        "train7=train_model_local(model6)\n",
        "train7.summarys(input_size=(3,224,224))"
      ]
    },
    {
      "cell_type": "code",
      "execution_count": null,
      "metadata": {},
      "outputs": [],
      "source": [
        "train7.compile(dataloaders,criterion,optimizer,num_epoch,batch_size,train_path,val_path,device)"
      ]
    },
    {
      "cell_type": "code",
      "execution_count": null,
      "metadata": {},
      "outputs": [],
      "source": [
        "start=datetime.datetime.now()\n",
        "file71='/content/drive/MyDrive/result/train/train_7m_Unet_decoder_se_change.txt'\n",
        "file72='/content/drive/MyDrive/result/test/test_7m_Unet_decode_se_change.txt'\n",
        "path7='/content/drive/MyDrive/result/checkpoints/train_7m_Unet_decoder_se_change'\n",
        "train7.fit(file71,file72,path7)\n",
        "end=datetime.datetime.now()\n",
        "t=(end-start).total_seconds()\n",
        "print(\"%d min, %d seconds\"%((t/60),(t%60)))"
      ]
    },
    {
      "cell_type": "code",
      "execution_count": null,
      "metadata": {},
      "outputs": [],
      "source": [
        "path7='/content/drive/MyDrive/result/checkpoints/train_7m_Unet_decoder_se_change'\n",
        "path7=path7+'_%d.pth'%(num_epoch-1)\n",
        "with torch.no_grad():\n",
        "    data=next(iter(dataloaders['val']))\n",
        "    pic3,label=data[0].to(device),data[1].to(device)\n",
        "\n",
        "    model7.load_state_dict(torch.load(path7))   #修改model,path\n",
        "    y=model7(pic3).cpu()   #修改model\n",
        "\n",
        "    plt.figure(3)\n",
        "    plt.subplot(121)\n",
        "    img3_y=torch.squeeze(y).numpy()\n",
        "    plt.imshow(img3_y,cmap='gray')\n",
        "    plt.subplot(122)\n",
        "    img_label=label.squeeze().cpu().numpy()\n",
        "    plt.imshow(img_label) "
      ]
    },
    {
      "cell_type": "markdown",
      "metadata": {},
      "source": [
        "## 14.unet_decoder_idea3_sev2\n",
        "\n",
        "model6=Unet_decoder_idea3_se(n_class=1)\n",
        "model6.to(device)\n",
        "\n",
        "criterion = nn.BCEWithLogitsLoss()\n",
        "optimizer = optim.Adam(model6.parameters())\n",
        "\n",
        "train6=train_model_local(model6)\n",
        "train6.summarys(input_size=(3,224,224))\n",
        "\n",
        "train6.compile(dataloaders,criterion,optimizer,num_epoch,batch_size,train_path,val_path,device)\n",
        "\n",
        "start=datetime.datetime.now()\n",
        "file61='/content/drive/MyDrive/result/train/train_7m_Unet_decoder_idea3_se_change.txt'\n",
        "file62='/content/drive/MyDrive/result/test/test_7m_Unet_decoder_idea3_se_change.txt'\n",
        "path6='/content/drive/MyDrive/result/checkpoints/train_7m_Unet_decoder_idea3_se_change'\n",
        "train6.fit(file61,file62,path6)\n",
        "end=datetime.datetime.now()\n",
        "t=(end-start).total_seconds()\n",
        "print(\"%d min, %d seconds\"%((t/60),(t%60)))\n",
        "\n",
        "path6='/content/drive/MyDrive/result/checkpoints/train_7m_Unet_decoder_idea3_se_change'\n",
        "path6=path6+'_%d.pth'%(num_epoch-1)\n",
        "with torch.no_grad():\n",
        "    data=next(iter(dataloaders['val']))\n",
        "    pic3,label=data[0].to(device),data[1].to(device)\n",
        "\n",
        "    model6.load_state_dict(torch.load(path6))   #修改model,path\n",
        "    y=model6(pic3).cpu()   #修改model\n",
        "\n",
        "    plt.figure(3)\n",
        "    plt.subplot(121)\n",
        "    img3_y=torch.squeeze(y).numpy()\n",
        "    plt.imshow(img3_y,cmap='gray')\n",
        "    plt.subplot(122)\n",
        "    img_label=label.squeeze().cpu().numpy()\n",
        "    plt.imshow(img_label) "
      ]
    },
    {
      "cell_type": "code",
      "execution_count": 1,
      "metadata": {},
      "outputs": [
        {
          "name": "stderr",
          "output_type": "stream",
          "text": [
            "ERROR: Could not find a version that satisfies the requirement tqm\n",
            "ERROR: No matching distribution found for tqm\n"
          ]
        }
      ],
      "source": [
        "!pip install tqm"
      ]
    }
  ],
  "metadata": {
    "accelerator": "GPU",
    "colab": {
      "collapsed_sections": [
        "f1Z5R8a9ItS6"
      ],
      "machine_shape": "hm",
      "name": "main_unet",
      "provenance": []
    },
    "interpreter": {
      "hash": "f6f150e5e3050c5b4aef0803bf6eb78935ee5661b3af00ae6c6442418a1e1843"
    },
    "kernelspec": {
      "display_name": "Python 3.8.11 64-bit ('pytorch_1.9': conda)",
      "name": "python3"
    },
    "language_info": {
      "codemirror_mode": {
        "name": "ipython",
        "version": 3
      },
      "file_extension": ".py",
      "mimetype": "text/x-python",
      "name": "python",
      "nbconvert_exporter": "python",
      "pygments_lexer": "ipython3",
      "version": "3.8.8"
    }
  },
  "nbformat": 4,
  "nbformat_minor": 0
}
