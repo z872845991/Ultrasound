{
  "cells": [
    {
      "cell_type": "markdown",
      "metadata": {
        "id": "f1Z5R8a9ItS6"
      },
      "source": [
        "# 加载数据"
      ]
    },
    {
      "cell_type": "code",
      "execution_count": null,
      "metadata": {
        "id": "UexauhJkYUSD"
      },
      "outputs": [],
      "source": [
        "import os\n",
        "import torch\n",
        "from torch.utils.data import DataLoader\n",
        "from torch import nn, optim\n",
        "from torchvision.transforms import transforms\n",
        "from torchsummary import summary"
      ]
    },
    {
      "cell_type": "code",
      "execution_count": null,
      "metadata": {
        "colab": {
          "base_uri": "https://localhost:8080/"
        },
        "id": "5FO539a4f0fg",
        "outputId": "7ab9028c-3327-4760-a5ca-9e232100e35e"
      },
      "outputs": [
        {
          "name": "stdout",
          "output_type": "stream",
          "text": [
            "Mon Oct 18 06:22:47 2021       \n",
            "+-----------------------------------------------------------------------------+\n",
            "| NVIDIA-SMI 470.74       Driver Version: 460.32.03    CUDA Version: 11.2     |\n",
            "|-------------------------------+----------------------+----------------------+\n",
            "| GPU  Name        Persistence-M| Bus-Id        Disp.A | Volatile Uncorr. ECC |\n",
            "| Fan  Temp  Perf  Pwr:Usage/Cap|         Memory-Usage | GPU-Util  Compute M. |\n",
            "|                               |                      |               MIG M. |\n",
            "|===============================+======================+======================|\n",
            "|   0  Tesla P100-PCIE...  Off  | 00000000:00:04.0 Off |                    0 |\n",
            "| N/A   34C    P0    28W / 250W |      0MiB / 16280MiB |      0%      Default |\n",
            "|                               |                      |                  N/A |\n",
            "+-------------------------------+----------------------+----------------------+\n",
            "                                                                               \n",
            "+-----------------------------------------------------------------------------+\n",
            "| Processes:                                                                  |\n",
            "|  GPU   GI   CI        PID   Type   Process name                  GPU Memory |\n",
            "|        ID   ID                                                   Usage      |\n",
            "|=============================================================================|\n",
            "|  No running processes found                                                 |\n",
            "+-----------------------------------------------------------------------------+\n"
          ]
        }
      ],
      "source": [
        "gpu_info = !nvidia-smi\n",
        "gpu_info = '\\n'.join(gpu_info)\n",
        "if gpu_info.find('failed') >= 0:\n",
        "  print('Select the Runtime > \"Change runtime type\" menu to enable a GPU accelerator, ')\n",
        "  print('and then re-execute this cell.')\n",
        "else:\n",
        "  print(gpu_info)"
      ]
    },
    {
      "cell_type": "code",
      "execution_count": null,
      "metadata": {
        "colab": {
          "base_uri": "https://localhost:8080/"
        },
        "id": "F9wEu1XBYoad",
        "outputId": "f9e32b20-9dee-4911-b9c6-acff5fef249f"
      },
      "outputs": [
        {
          "name": "stdout",
          "output_type": "stream",
          "text": [
            "Mounted at /content/drive\n"
          ]
        }
      ],
      "source": [
        "from google.colab import drive\n",
        "drive.mount('/content/drive')"
      ]
    },
    {
      "cell_type": "code",
      "execution_count": null,
      "metadata": {
        "colab": {
          "base_uri": "https://localhost:8080/"
        },
        "id": "JUchCajxY4B5",
        "outputId": "6298658d-6519-4ea3-c046-03089f14a6e8"
      },
      "outputs": [],
      "source": [
        "# !unzip /content/drive/MyDrive/Data.zip\n"
      ]
    },
    {
      "cell_type": "code",
      "execution_count": null,
      "metadata": {
        "colab": {
          "base_uri": "https://localhost:8080/"
        },
        "id": "atzprd0Gypo5",
        "outputId": "45d5cd42-6518-422b-bb39-b66e0e40e3b4"
      },
      "outputs": [
        {
          "name": "stdout",
          "output_type": "stream",
          "text": [
            "1534\n",
            "384\n"
          ]
        }
      ],
      "source": [
        "!ls /content/drive/MyDrive/Data/Data/data/train -l | grep \"^-\" | wc -l\n",
        "!ls /content/drive/MyDrive/Data/Data/data/test -l | grep \"^-\" | wc -l"
      ]
    },
    {
      "cell_type": "code",
      "execution_count": null,
      "metadata": {
        "colab": {
          "base_uri": "https://localhost:8080/"
        },
        "id": "m7dPJyWlYUSG",
        "outputId": "fcbad53a-1105-4880-d572-3acb825b6df8"
      },
      "outputs": [],
      "source": [
        "%cd /content\n",
        "if os.path.exists(\"Ultrasound\"):\n",
        "    %rm -rf Ultrasound\n",
        "!ls\n",
        "if not os.path.exists(\"Ultrasound\"):\n",
        "    !git clone https://github.com/z872845991/Ultrasound.git\n",
        "%cd Ultrasound\n",
        "!ls"
      ]
    },
    {
      "cell_type": "code",
      "execution_count": null,
      "metadata": {
        "colab": {
          "base_uri": "https://localhost:8080/"
        },
        "id": "TeVP0bjqYUSH",
        "outputId": "d1daca53-d441-47fd-c3a3-8acc5595a2f7"
      },
      "outputs": [
        {
          "name": "stdout",
          "output_type": "stream",
          "text": [
            "cuda:0\n"
          ]
        }
      ],
      "source": [
        "device=torch.device(\"cuda:0\" if torch.cuda.is_available() else \"cpu\")\n",
        "print(device)"
      ]
    },
    {
      "cell_type": "markdown",
      "metadata": {
        "id": "P7rK0vWwTLRA"
      },
      "source": [
        "# 参数"
      ]
    },
    {
      "cell_type": "markdown",
      "metadata": {},
      "source": [
        "## 导入工具包"
      ]
    },
    {
      "cell_type": "code",
      "execution_count": 1,
      "metadata": {
        "id": "DCNKYZQrYUSJ"
      },
      "outputs": [],
      "source": [
        "from dataset.Fetus import FetusDataset\n",
        "from tools.metrics import dice_coef,iou_score,get_accuracy,get_precision,get_specificity,get_recall,get_F1\n",
        "from tools.utils import AverageMeter\n",
        "from train.train_unet_local import train_model_local\n",
        "import matplotlib.pyplot as plt\n",
        "import datetime"
      ]
    },
    {
      "cell_type": "markdown",
      "metadata": {},
      "source": [
        "## 导入模型"
      ]
    },
    {
      "cell_type": "code",
      "execution_count": null,
      "metadata": {},
      "outputs": [],
      "source": [
        "from model.unet_res_myself_pool_connect_o_C import Unet_res_myself_pool\n",
        "from model.unet import Unet\n",
        "from model.idea3 import Idea3\n",
        "from model.idea3 import Idea3_seblock\n",
        "from model.unet_self_attention import Unet_self_attention"
      ]
    },
    {
      "cell_type": "code",
      "execution_count": null,
      "metadata": {
        "id": "i9EQMUgsYUSI"
      },
      "outputs": [],
      "source": [
        "num_epoch=81\n",
        "batch_size={'train':2,\n",
        "            'val':1\n",
        "            }\n",
        "train_path='/content/drive/MyDrive/Data/Data/data/train'\n",
        "val_path='/content/drive/MyDrive/Data/Data/data/test'\n",
        "#变换\n",
        "x_transforms = transforms.Compose([\n",
        "    transforms.Resize((512,512)),\n",
        "    # transforms.CenterCrop(512),\n",
        "    transforms.ToTensor()\n",
        "    # transforms.Normalize([0.5, 0.5, 0.5], [0.5, 0.5, 0.5])\n",
        "])\n",
        "# mask只需要转换为tensor\n",
        "y_transforms = transforms.Compose([\n",
        "    transforms.Resize((512, 512)),\n",
        "    # transforms.CenterCrop(512),\n",
        "    transforms.ToTensor()\n",
        "   ])\n",
        "#加载数据集\n",
        "train_dataset=FetusDataset(train_path,transform=x_transforms,target_transform=y_transforms)\n",
        "val_dataset=FetusDataset(val_path,transform=x_transforms,target_transform=y_transforms)\n",
        "#设置dataloader\n",
        "dataloaders={\n",
        "    'train':DataLoader(train_dataset,batch_size=batch_size['train'],shuffle=True,num_workers=0),\n",
        "    'val':DataLoader(val_dataset,batch_size=batch_size['val'],shuffle=True,num_workers=0)\n",
        "             }\n",
        "\n"
      ]
    },
    {
      "cell_type": "markdown",
      "metadata": {
        "id": "I-Fv7mlxGIRV"
      },
      "source": [
        "# 训练"
      ]
    },
    {
      "cell_type": "markdown",
      "metadata": {
        "id": "mrn2xS7JH-Bx"
      },
      "source": [
        "## 1. Idea3"
      ]
    },
    {
      "cell_type": "code",
      "execution_count": null,
      "metadata": {
        "colab": {
          "base_uri": "https://localhost:8080/"
        },
        "id": "-0-pMw_yYUSL",
        "outputId": "7676d319-a050-43fc-cdb5-e396064ad470"
      },
      "outputs": [],
      "source": [
        "model1=Idea3(n_class=1)\n",
        "model1.to(device)\n",
        "\n",
        "criterion = nn.BCEWithLogitsLoss()\n",
        "optimizer = optim.Adam(model1.parameters())\n",
        "\n",
        "train1=train_model_local(model1)\n",
        "train1.summarys(input_size=(3,224,224))"
      ]
    },
    {
      "cell_type": "code",
      "execution_count": null,
      "metadata": {
        "id": "q7PYcgxPIk99"
      },
      "outputs": [],
      "source": [
        "train1.compile(dataloaders,criterion,optimizer,num_epoch,batch_size,train_path,val_path,device)"
      ]
    },
    {
      "cell_type": "code",
      "execution_count": null,
      "metadata": {
        "id": "50tP7L4KI4dy"
      },
      "outputs": [],
      "source": [
        "file11='/content/drive/MyDrive/result/train/train_7m_Idea3_change.txt'\n",
        "file12='/content/drive/MyDrive/result/test/test_7m_Idea3_change.txt'\n",
        "path1='/content/drive/MyDrive/result/checkpoins/train_7m_Idea3'\n",
        "train.fit(file11,file12,path1)"
      ]
    },
    {
      "cell_type": "code",
      "execution_count": null,
      "metadata": {},
      "outputs": [],
      "source": [
        "path1='/content/drive/MyDrive/result/checkpoints/train_7m_Idea3_se_change_1'\n",
        "with torch.no_grad():\n",
        "    data=next(iter(dataloaders['val']))\n",
        "    pic1,label=data[0].to(device),data[1].to(device)\n",
        "    path1=path1+'_%d.pth'%(num_epoch-1)\n",
        "    model1.load_state_dict(torch.load(path1))\n",
        "    y=model1(pic1).cpu()\n",
        "    plt.figure(1)\n",
        "    plt.subplot(121)\n",
        "    img1_y=torch.squeeze(y).numpy()\n",
        "    plt.imshow(img1_y,cmap='gray')\n",
        "    plt.subplot(122)\n",
        "    img_label=label.squeeze().cpu().numpy()\n",
        "    plt.imshow(img_label) "
      ]
    },
    {
      "cell_type": "markdown",
      "metadata": {
        "id": "7Z63M3uHGLP7"
      },
      "source": [
        "## 2. Unet_res_myself_pool\n"
      ]
    },
    {
      "cell_type": "code",
      "execution_count": null,
      "metadata": {
        "colab": {
          "base_uri": "https://localhost:8080/"
        },
        "id": "UV3FTecfGQJM",
        "outputId": "5da77860-66c6-48c3-a63b-9ae7cf165ece"
      },
      "outputs": [],
      "source": [
        "model2=Unet_res_myself_pool(n_class=1)\n",
        "#model=Unet(n_class=1)\n",
        "model2.to(device)\n",
        "\n",
        "criterion = nn.BCEWithLogitsLoss()\n",
        "optimizer = optim.Adam(model2.parameters())\n",
        "\n",
        "train2=train_model_local(model2)\n",
        "train2.summarys(input_size=(3,224,224))"
      ]
    },
    {
      "cell_type": "code",
      "execution_count": null,
      "metadata": {
        "id": "DHaXIjhsGmCC"
      },
      "outputs": [],
      "source": [
        "train2.compile(dataloaders,criterion,optimizer,num_epoch,batch_size,train_path,val_path,device)"
      ]
    },
    {
      "cell_type": "code",
      "execution_count": null,
      "metadata": {
        "colab": {
          "base_uri": "https://localhost:8080/"
        },
        "id": "eHKYyQxJGo9J",
        "outputId": "842d30fb-bb51-4019-f0c0-e40ce9db7338"
      },
      "outputs": [],
      "source": [
        "file21='/content/drive/MyDrive/result/train/train_7m_Unet_res_myself_pool_change.txt'\n",
        "file22='/content/drive/MyDrive/result/test/test_7m_Unet_res_myself_pool_change.txt'\n",
        "path2='/content/drive/MyDrive/result/checkpoints/train_7m_Unet_res_myself_pool_change'\n",
        "train2.fit(file21,file22,path2)"
      ]
    },
    {
      "cell_type": "code",
      "execution_count": null,
      "metadata": {},
      "outputs": [],
      "source": [
        "path2='/content/drive/MyDrive/result/checkpoints/train_7m_Idea3_se_change_2'\n",
        "path2=path2+'_%d.pth'%(num_epoch-1)\n",
        "with torch.no_grad():\n",
        "    data=next(iter(dataloaders['val']))\n",
        "    pic2,label=data[0].to(device),data[2].to(device)\n",
        "\n",
        "    model2.load_state_dict(torch.load(path2))\n",
        "    \n",
        "    y=model2(pic2).cpu()\n",
        "    plt.figure(1)\n",
        "    plt.subplot(121)\n",
        "    img2_y=torch.squeeze(y).numpy()\n",
        "    plt.imshow(img2_y,cmap='gray')\n",
        "    plt.subplot(122)\n",
        "    img_label=label.squeeze().cpu().numpy()\n",
        "    plt.imshow(img_label) "
      ]
    },
    {
      "cell_type": "markdown",
      "metadata": {
        "id": "X_enN2KdGSLb"
      },
      "source": [
        "## 3. Unet\n"
      ]
    },
    {
      "cell_type": "code",
      "execution_count": null,
      "metadata": {
        "colab": {
          "base_uri": "https://localhost:8080/"
        },
        "id": "i94h3wR4HBvR",
        "outputId": "1688f69a-369d-4f82-f0f4-64910140715c"
      },
      "outputs": [],
      "source": [
        "model3=Unet(n_class=1)\n",
        "model3.to(device)\n",
        "\n",
        "criterion = nn.BCEWithLogitsLoss()\n",
        "optimizer = optim.Adam(model3.parameters())\n",
        "\n",
        "train3=train_model_local(model3)\n",
        "train3.summarys(input_size=(3,224,224))"
      ]
    },
    {
      "cell_type": "code",
      "execution_count": null,
      "metadata": {
        "id": "_5hAryo8HCLb"
      },
      "outputs": [],
      "source": [
        "train3.compile(dataloaders,criterion,optimizer,num_epoch,batch_size,train_path,val_path,device)"
      ]
    },
    {
      "cell_type": "code",
      "execution_count": null,
      "metadata": {
        "id": "Z1qdCUbeHCbN"
      },
      "outputs": [],
      "source": [
        "file31='/content/drive/MyDrive/result/train/train_7m_Unet_change.txt'\n",
        "file32='/content/drive/MyDrive/result/test/test_7m_Unet_change.txt'\n",
        "path3='/content/drive/MyDrive/result/checkpoints/train_7m_Unet_change'\n",
        "train3.fit(file31,file32,path3)"
      ]
    },
    {
      "cell_type": "code",
      "execution_count": null,
      "metadata": {},
      "outputs": [],
      "source": [
        "path3='/content/drive/MyDrive/result/checkpoints/train_7m_Idea3_se_change_1'\n",
        "path3=path3+'_%d.pth'%(num_epoch-1)\n",
        "with torch.no_grad():\n",
        "    data=next(iter(dataloaders['val']))\n",
        "    pic3,label=data[0].to(device),data[1].to(device)\n",
        "    model3.load_state_dict(torch.load(path3))\n",
        "    y=model3(pic3).cpu()\n",
        "    plt.figure(3)\n",
        "    plt.subplot(121)\n",
        "    img3_y=torch.squeeze(y).numpy()\n",
        "    plt.imshow(img3_y,cmap='gray')\n",
        "    plt.subplot(122)\n",
        "    img_label=label.squeeze().cpu().numpy()\n",
        "    plt.imshow(img_label) "
      ]
    },
    {
      "cell_type": "markdown",
      "metadata": {},
      "source": [
        "## 4. Unet_self_attention"
      ]
    },
    {
      "cell_type": "code",
      "execution_count": null,
      "metadata": {},
      "outputs": [],
      "source": [
        "model4=Unet_self_attention(n_class=1)\n",
        "model4.to(device)\n",
        "\n",
        "criterion = nn.BCEWithLogitsLoss()\n",
        "optimizer = optim.Adam(model4.parameters())\n",
        "\n",
        "train4=train_model_local(model4)\n",
        "train4.summarys(input_size=(3,224,224))"
      ]
    },
    {
      "cell_type": "code",
      "execution_count": null,
      "metadata": {},
      "outputs": [],
      "source": [
        "train4.compile(dataloaders,criterion,optimizer,num_epoch,batch_size,train_path,val_path,device)"
      ]
    },
    {
      "cell_type": "code",
      "execution_count": null,
      "metadata": {},
      "outputs": [],
      "source": [
        "start=datetime.datetime.now()\n",
        "file41='/content/drive/MyDrive/result/train/train_7m_Unet_self_attention_.txt'\n",
        "file42='/content/drive/MyDrive/result/test/test_7m_Unet_self_attention.txt'\n",
        "path4='/content/drive/MyDrive/result/checkpoints/train_7m_Unet_self_attention'\n",
        "train4.fit(file41,file42,path4)\n",
        "end=datetime.datetime.now()\n",
        "t=end-start\n",
        "print(\"%d min, %d seconds\",%(t/60,t%60))"
      ]
    },
    {
      "cell_type": "code",
      "execution_count": null,
      "metadata": {},
      "outputs": [],
      "source": [
        "path4='/content/drive/MyDrive/result/checkpoints/train_7m_Unet_self_attention'\n",
        "path4=path4+'_%d.pth'%(num_epoch-1)\n",
        "with torch.no_grad():\n",
        "    data=next(iter(dataloaders['val']))\n",
        "\n",
        "    pic4,label=data[0].to(device),data[1].to(device)\n",
        "    model4.load_state_dict(torch.load(path3))\n",
        "    y=model4(pic4).cpu()\n",
        "    \n",
        "    plt.figure(3)\n",
        "    plt.subplot(121)\n",
        "    img4_y=torch.squeeze(y).numpy()\n",
        "    plt.imshow(img4_y,cmap='gray')\n",
        "    plt.subplot(122)\n",
        "    img_label=label.squeeze().cpu().numpy()\n",
        "    plt.imshow(img_label) "
      ]
    }
  ],
  "metadata": {
    "accelerator": "GPU",
    "colab": {
      "collapsed_sections": [
        "f1Z5R8a9ItS6"
      ],
      "machine_shape": "hm",
      "name": "main_unet",
      "provenance": []
    },
    "interpreter": {
      "hash": "f6f150e5e3050c5b4aef0803bf6eb78935ee5661b3af00ae6c6442418a1e1843"
    },
    "kernelspec": {
      "display_name": "Python 3.8.11 64-bit ('pytorch_1.9': conda)",
      "name": "python3"
    },
    "language_info": {
      "codemirror_mode": {
        "name": "ipython",
        "version": 3
      },
      "file_extension": ".py",
      "mimetype": "text/x-python",
      "name": "python",
      "nbconvert_exporter": "python",
      "pygments_lexer": "ipython3",
      "version": "3.8.11"
    }
  },
  "nbformat": 4,
  "nbformat_minor": 0
}
