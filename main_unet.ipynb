{
 "cells": [
  {
   "cell_type": "code",
   "execution_count": null,
   "metadata": {
    "collapsed": false,
    "pycharm": {
     "name": "#%%\n"
    }
   },
   "outputs": [],
   "source": [
    "import os\n",
    "import torch\n",
    "from torch.utils.data import DataLoader\n",
    "from torch import nn, optim\n",
    "from torchvision.transforms import transforms\n",
    "from torchsummary import summary"
   ]
  },
  {
   "cell_type": "code",
   "execution_count": null,
   "metadata": {
    "collapsed": false,
    "pycharm": {
     "name": "#%%\n"
    }
   },
   "outputs": [],
   "source": [
    "device=torch.device(\"cuda:0\" if torch.cuda.is_available() else \"cpu\")\n",
    "print(device)"
   ]
  },
  {
   "cell_type": "markdown",
   "metadata": {
    "collapsed": false,
    "pycharm": {
     "name": "#%% md\n"
    }
   },
   "source": [
    "超参数"
   ]
  },
  {
   "cell_type": "code",
   "execution_count": null,
   "metadata": {
    "collapsed": false,
    "pycharm": {
     "name": "#%%\n"
    }
   },
   "outputs": [],
   "source": [
    "num_epoch=80\n",
    "batch_size={'train':2,\n",
    "            'val':1\n",
    "            }\n",
    "#train_path='/content/drive/MyDrive/Data/data/train'\n",
    "#val_path='/content/drive/MyDrive/Data/data/test'"
   ]
  },
  {
   "cell_type": "code",
   "execution_count": null,
   "metadata": {
    "collapsed": false,
    "pycharm": {
     "name": "#%%\n"
    }
   },
   "outputs": [],
   "source": [
    "from dataset.Fetus import FetusDataset\n",
    "from model.unet import Unet\n",
    "from tools.metrics import dice_coef,iou_score,get_accuracy,get_precision,get_specificity,get_recall,get_F1\n",
    "from tools.utils import AverageMeter"
   ]
  },
  {
   "cell_type": "code",
   "execution_count": null,
   "metadata": {
    "collapsed": false,
    "pycharm": {
     "name": "#%%\n"
    }
   },
   "outputs": [],
   "source": [
    "x_transforms = transforms.Compose([\n",
    "    transforms.Resize((512,512)),\n",
    "    # transforms.CenterCrop(512),\n",
    "    transforms.ToTensor()\n",
    "    # transforms.Normalize([0.5, 0.5, 0.5], [0.5, 0.5, 0.5])\n",
    "])\n",
    "# mask只需要转换为tensor\n",
    "y_transforms = transforms.Compose([\n",
    "    transforms.Resize((512, 512)),\n",
    "    # transforms.CenterCrop(512),\n",
    "    transforms.ToTensor()\n",
    "   ])"
   ]
  },
  {
   "cell_type": "code",
   "execution_count": null,
   "metadata": {
    "collapsed": false,
    "pycharm": {
     "name": "#%%\n"
    }
   },
   "outputs": [],
   "source": [
    "train_dataset=FetusDataset(train_path,transform=x_transforms,target_transform=y_transforms)\n",
    "val_dataset=FetusDataset(val_path,transform=x_transforms,target_transform=y_transforms)\n",
    "dataloaders={\n",
    "    'train':DataLoader(train_dataset,batch_size=batch_size['train'],shuffle=True,num_workers=0),\n",
    "    'val':DataLoader(val_dataset,batch_size=batch_size['val'],shuffle=True,num_workers=0)\n",
    "             }"
   ]
  },
  {
   "cell_type": "code",
   "execution_count": null,
   "metadata": {
    "collapsed": false,
    "pycharm": {
     "name": "#%%\n"
    }
   },
   "outputs": [],
   "source": [
    "def train_model(model,criterion,optimizer,num_epochs):\n",
    "\n",
    "    for epoch in range(num_epochs):\n",
    "        for phase in ['train','val']:\n",
    "\n",
    "            if phase =='train':\n",
    "                model.train()\n",
    "                step=0\n",
    "                epoch_loss=0\n",
    "            else:\n",
    "                model.eval()\n",
    "            avgmeter1 = AverageMeter()\n",
    "            avgmeter2 = AverageMeter()\n",
    "            for idx,data in enumerate(dataloaders[phase]):\n",
    "                inputs,labels=data[0].to(device),data[1].to(device)\n",
    "                outputs=model(inputs)\n",
    "                loss=criterion(outputs,labels)\n",
    "                with torch.set_grad_enabled(phase=='train'):\n",
    "                    optimizer.zero_grad()\n",
    "                    loss.backward()\n",
    "                    optimizer.step()\n",
    "                iou=iou_score(outputs,labels)\n",
    "                dice=dice_coef(outputs,labels)\n",
    "\n",
    "                avgmeter1.update(iou, batch_size[phase])\n",
    "                avgmeter2.update(dice, batch_size[phase])\n",
    "                if phase=='train':\n",
    "                    step+=1\n",
    "                    epoch_loss+=loss.item()\n",
    "                    print(phase,\"\\t epoch: %d  ,idx: %d   ,loss: %0.3f   ,miou:   %.3f,maxiou: %.3f    ,miniou: %.3f    ,mdice: %.3f   ,maxdice: %.3f   ,mindice: %.3f   \" %(epoch,idx,epoch_loss / step, avgmeter1.avg, avgmeter1.max, avgmeter1.min, avgmeter2.avg, avgmeter2.max,avgmeter2.min)+'\\n')\n",
    "                else:\n",
    "                    print(phase,\"\\t epoch: %d  ,idx: %d   ,miou:   %.3f,maxiou: %.3f    ,miniou: %.3f    ,mdice: %.3f   ,maxdice: %.3f   ,mindice: %.3f   \" %(epoch,idx, avgmeter1.avg, avgmeter1.max, avgmeter1.min, avgmeter2.avg, avgmeter2.max,avgmeter2.min)+'\\n')"
   ]
  },
  {
   "cell_type": "code",
   "execution_count": null,
   "metadata": {
    "collapsed": false,
    "pycharm": {
     "name": "#%%\n"
    }
   },
   "outputs": [],
   "source": [
    "model=Unet(n_class=1)\n",
    "model.to(device)\n",
    "criterion = nn.BCEWithLogitsLoss()\n",
    "optimizer = optim.Adam(model.parameters())"
   ]
  },
  {
   "cell_type": "code",
   "execution_count": null,
   "metadata": {
    "collapsed": false,
    "pycharm": {
     "name": "#%%\n"
    }
   },
   "outputs": [],
   "source": [
    "summary(model, input_size=(3, 224, 224))"
   ]
  },
  {
   "cell_type": "code",
   "execution_count": null,
   "metadata": {
    "collapsed": false,
    "pycharm": {
     "name": "#%%\n"
    }
   },
   "outputs": [],
   "source": [
    "train_model(model,criterion,optimizer,num_epoch)\n"
   ]
  }
 ],
 "metadata": {
  "kernelspec": {
   "display_name": "Python 3",
   "language": "python",
   "name": "python3"
  },
  "language_info": {
   "codemirror_mode": {
    "name": "ipython",
    "version": 2
   },
   "file_extension": ".py",
   "mimetype": "text/x-python",
   "name": "python",
   "nbconvert_exporter": "python",
   "pygments_lexer": "ipython2",
   "version": "2.7.6"
  }
 },
 "nbformat": 4,
 "nbformat_minor": 0
}
